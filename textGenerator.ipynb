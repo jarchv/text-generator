{
  "nbformat": 4,
  "nbformat_minor": 0,
  "metadata": {
    "colab": {
      "name": "textGenerator.ipynb",
      "version": "0.3.2",
      "provenance": []
    },
    "kernelspec": {
      "name": "python3",
      "display_name": "Python 3"
    },
    "accelerator": "GPU"
  },
  "cells": [
    {
      "metadata": {
        "id": "ALDvLowpumX3",
        "colab_type": "code",
        "colab": {
          "base_uri": "https://localhost:8080/",
          "height": 35
        },
        "outputId": "8f8c79ac-41be-430f-9c6d-ebc2c45e16a1"
      },
      "cell_type": "code",
      "source": [
        "from google.colab import drive \n",
        "\n",
        "\n",
        "drive.mount('/content/gdrive')"
      ],
      "execution_count": 1,
      "outputs": [
        {
          "output_type": "stream",
          "text": [
            "Drive already mounted at /content/gdrive; to attempt to forcibly remount, call drive.mount(\"/content/gdrive\", force_remount=True).\n"
          ],
          "name": "stdout"
        }
      ]
    },
    {
      "metadata": {
        "id": "1MawPHZSvEZw",
        "colab_type": "code",
        "colab": {}
      },
      "cell_type": "code",
      "source": [
        "DRIVE_PATH = '/content/gdrive/My Drive/CS/SI/part2/text-generator/'"
      ],
      "execution_count": 0,
      "outputs": []
    },
    {
      "metadata": {
        "id": "H9jb4572ujzD",
        "colab_type": "code",
        "colab": {}
      },
      "cell_type": "code",
      "source": [
        "import pandas as pd\n",
        "\n",
        "df = pd.read_csv(DRIVE_PATH + \"spanish_emojis.csv\")"
      ],
      "execution_count": 0,
      "outputs": []
    },
    {
      "metadata": {
        "id": "VxfxjGFhujzb",
        "colab_type": "code",
        "colab": {
          "base_uri": "https://localhost:8080/",
          "height": 206
        },
        "outputId": "519da795-71d8-4428-f195-8543aa8cbd07"
      },
      "cell_type": "code",
      "source": [
        "df.head()"
      ],
      "execution_count": 4,
      "outputs": [
        {
          "output_type": "execute_result",
          "data": {
            "text/html": [
              "<div>\n",
              "<style scoped>\n",
              "    .dataframe tbody tr th:only-of-type {\n",
              "        vertical-align: middle;\n",
              "    }\n",
              "\n",
              "    .dataframe tbody tr th {\n",
              "        vertical-align: top;\n",
              "    }\n",
              "\n",
              "    .dataframe thead th {\n",
              "        text-align: right;\n",
              "    }\n",
              "</style>\n",
              "<table border=\"1\" class=\"dataframe\">\n",
              "  <thead>\n",
              "    <tr style=\"text-align: right;\">\n",
              "      <th></th>\n",
              "      <th>Unnamed: 0</th>\n",
              "      <th>emojis</th>\n",
              "      <th>observations</th>\n",
              "    </tr>\n",
              "  </thead>\n",
              "  <tbody>\n",
              "    <tr>\n",
              "      <th>0</th>\n",
              "      <td>300</td>\n",
              "      <td>😭</td>\n",
              "      <td>? en serio han cancelado tambien quantico</td>\n",
              "    </tr>\n",
              "    <tr>\n",
              "      <th>1</th>\n",
              "      <td>301</td>\n",
              "      <td>😂</td>\n",
              "      <td>si on mo</td>\n",
              "    </tr>\n",
              "    <tr>\n",
              "      <th>2</th>\n",
              "      <td>302</td>\n",
              "      <td>😝</td>\n",
              "      <td>se duerme relooo</td>\n",
              "    </tr>\n",
              "    <tr>\n",
              "      <th>3</th>\n",
              "      <td>303</td>\n",
              "      <td>🤗</td>\n",
              "      <td>ahi te podes dar cuenta que diferentes somos y...</td>\n",
              "    </tr>\n",
              "    <tr>\n",
              "      <th>4</th>\n",
              "      <td>304</td>\n",
              "      <td>😪</td>\n",
              "      <td>625 pero la tipi esta jugando desde la 5</td>\n",
              "    </tr>\n",
              "  </tbody>\n",
              "</table>\n",
              "</div>"
            ],
            "text/plain": [
              "   Unnamed: 0 emojis                                       observations\n",
              "0         300      😭          ? en serio han cancelado tambien quantico\n",
              "1         301      😂                                           si on mo\n",
              "2         302      😝                                   se duerme relooo\n",
              "3         303      🤗  ahi te podes dar cuenta que diferentes somos y...\n",
              "4         304      😪           625 pero la tipi esta jugando desde la 5"
            ]
          },
          "metadata": {
            "tags": []
          },
          "execution_count": 4
        }
      ]
    },
    {
      "metadata": {
        "id": "bjNy5CiQujzt",
        "colab_type": "code",
        "colab": {
          "base_uri": "https://localhost:8080/",
          "height": 35
        },
        "outputId": "f4d499c2-426f-42d5-f27c-0369dcf17f8b"
      },
      "cell_type": "code",
      "source": [
        "observations = df['observations'].values\n",
        "len(observations)"
      ],
      "execution_count": 5,
      "outputs": [
        {
          "output_type": "execute_result",
          "data": {
            "text/plain": [
              "151743"
            ]
          },
          "metadata": {
            "tags": []
          },
          "execution_count": 5
        }
      ]
    },
    {
      "metadata": {
        "id": "NESyBZ99ujz-",
        "colab_type": "code",
        "colab": {
          "base_uri": "https://localhost:8080/",
          "height": 35
        },
        "outputId": "780e1569-049d-431f-cefd-9be9ce22557d"
      },
      "cell_type": "code",
      "source": [
        "observations[0]"
      ],
      "execution_count": 6,
      "outputs": [
        {
          "output_type": "execute_result",
          "data": {
            "text/plain": [
              "'? en serio han cancelado tambien quantico'"
            ]
          },
          "metadata": {
            "tags": []
          },
          "execution_count": 6
        }
      ]
    },
    {
      "metadata": {
        "id": "zOus-1euuj0L",
        "colab_type": "code",
        "colab": {
          "base_uri": "https://localhost:8080/",
          "height": 35
        },
        "outputId": "9051e7c5-0e28-4c47-c530-ea8b0cd54f4d"
      },
      "cell_type": "code",
      "source": [
        "sentences = []\n",
        "for sentence in observations:\n",
        "    if len(sentence.split()) > 18:\n",
        "      sentences.append(sentence.split())\n",
        "      \n",
        "print(len(sentences))"
      ],
      "execution_count": 7,
      "outputs": [
        {
          "output_type": "stream",
          "text": [
            "13336\n"
          ],
          "name": "stdout"
        }
      ]
    },
    {
      "metadata": {
        "id": "Bg0cOyjnvdSE",
        "colab_type": "code",
        "colab": {}
      },
      "cell_type": "code",
      "source": [
        "sentences = sentences[:10000]"
      ],
      "execution_count": 0,
      "outputs": []
    },
    {
      "metadata": {
        "id": "MZUjgxnfuj0U",
        "colab_type": "code",
        "colab": {
          "base_uri": "https://localhost:8080/",
          "height": 35
        },
        "outputId": "1f81c9a4-bb49-4e0e-d4db-ac2b4bfe1db7"
      },
      "cell_type": "code",
      "source": [
        "flatten_word_simbols = [word_simbol for sublist in sentences for word_simbol in sublist]\n",
        "\n",
        "len(flatten_word_simbols)"
      ],
      "execution_count": 9,
      "outputs": [
        {
          "output_type": "execute_result",
          "data": {
            "text/plain": [
              "220482"
            ]
          },
          "metadata": {
            "tags": []
          },
          "execution_count": 9
        }
      ]
    },
    {
      "metadata": {
        "id": "taf3spVVuj0m",
        "colab_type": "code",
        "colab": {
          "base_uri": "https://localhost:8080/",
          "height": 35
        },
        "outputId": "fd9ef034-e462-468e-d046-e82debc3ccae"
      },
      "cell_type": "code",
      "source": [
        "import collections\n",
        "\n",
        "cnt = collections.Counter(flatten_word_simbols)\n",
        "print(\"Vocab size = \", len(cnt))"
      ],
      "execution_count": 10,
      "outputs": [
        {
          "output_type": "stream",
          "text": [
            "Vocab size =  19779\n"
          ],
          "name": "stdout"
        }
      ]
    },
    {
      "metadata": {
        "id": "S9nBX_tMuj01",
        "colab_type": "code",
        "colab": {}
      },
      "cell_type": "code",
      "source": [
        "vocab_keys = cnt.most_common()"
      ],
      "execution_count": 0,
      "outputs": []
    },
    {
      "metadata": {
        "id": "V6FAIiuuuj1K",
        "colab_type": "code",
        "colab": {
          "base_uri": "https://localhost:8080/",
          "height": 35
        },
        "outputId": "1bf8bff8-9db4-49cb-8797-d88f153a104c"
      },
      "cell_type": "code",
      "source": [
        "vocab_keys[-1]"
      ],
      "execution_count": 12,
      "outputs": [
        {
          "output_type": "execute_result",
          "data": {
            "text/plain": [
              "('semanaaaa', 1)"
            ]
          },
          "metadata": {
            "tags": []
          },
          "execution_count": 12
        }
      ]
    },
    {
      "metadata": {
        "id": "rG3pymnAuj1Z",
        "colab_type": "code",
        "colab": {}
      },
      "cell_type": "code",
      "source": [
        "stoi = {}\n",
        "\n",
        "i = 0\n",
        "for word_simbol, count in vocab_keys:\n",
        "    stoi[word_simbol] = i\n",
        "    i+=1\n",
        "    \n",
        "stoi['_end_'  ] = i\n",
        "#stoi['_blank_'] = i + 1"
      ],
      "execution_count": 0,
      "outputs": []
    },
    {
      "metadata": {
        "id": "ml7-si74uj1j",
        "colab_type": "code",
        "colab": {
          "base_uri": "https://localhost:8080/",
          "height": 35
        },
        "outputId": "1217d0f7-d2c3-4770-8c07-4d10a3124897"
      },
      "cell_type": "code",
      "source": [
        "stoi['que'],stoi['ja'],stoi['_end_']#, stoi['.'], stoi['_blank_']"
      ],
      "execution_count": 14,
      "outputs": [
        {
          "output_type": "execute_result",
          "data": {
            "text/plain": [
              "(0, 1779, 19779)"
            ]
          },
          "metadata": {
            "tags": []
          },
          "execution_count": 14
        }
      ]
    },
    {
      "metadata": {
        "id": "r30WQbq-uj11",
        "colab_type": "code",
        "colab": {
          "base_uri": "https://localhost:8080/",
          "height": 54
        },
        "outputId": "b8475302-cb7d-4aee-9832-5811c3e69310"
      },
      "cell_type": "code",
      "source": [
        "print(\"Max key-value \\t= \", len(stoi.keys())-1)\n",
        "\n",
        "VOCAB_SIZE = len(stoi.keys())\n",
        "print(\"Vocab Size \\t= \", VOCAB_SIZE)"
      ],
      "execution_count": 15,
      "outputs": [
        {
          "output_type": "stream",
          "text": [
            "Max key-value \t=  19779\n",
            "Vocab Size \t=  19780\n"
          ],
          "name": "stdout"
        }
      ]
    },
    {
      "metadata": {
        "id": "Ps6dU7Chuj1-",
        "colab_type": "code",
        "colab": {}
      },
      "cell_type": "code",
      "source": [
        "itos = {}\n",
        "\n",
        "for s, i in stoi.items():\n",
        "    itos[i] = s"
      ],
      "execution_count": 0,
      "outputs": []
    },
    {
      "metadata": {
        "id": "6fvl5udRuj2H",
        "colab_type": "code",
        "colab": {}
      },
      "cell_type": "code",
      "source": [
        "assert ('que'     == itos[stoi['que'    ]])\n",
        "assert ('ja'      == itos[stoi['ja'     ]])\n",
        "#assert ('.'       == itos[stoi['.'      ]])\n",
        "assert ('_end_'   == itos[stoi['_end_'  ]])\n",
        "#assert ('_blank_' == itos[stoi['_blank_']])"
      ],
      "execution_count": 0,
      "outputs": []
    },
    {
      "metadata": {
        "id": "_1m5K892uj2Q",
        "colab_type": "code",
        "colab": {}
      },
      "cell_type": "code",
      "source": [
        "x_input = []\n",
        "ls      = []\n",
        "\n",
        "for sentence in sentences:\n",
        "    i_sentence = []\n",
        "    for word_simbol in sentence:\n",
        "        i_sentence.append(stoi[word_simbol])\n",
        "    i_sentence.append(stoi['_end_'])\n",
        "    x_input.append(i_sentence)\n",
        "    ls.append(len(i_sentence))"
      ],
      "execution_count": 0,
      "outputs": []
    },
    {
      "metadata": {
        "id": "t1tjk15_uj2Z",
        "colab_type": "code",
        "colab": {
          "base_uri": "https://localhost:8080/",
          "height": 35
        },
        "outputId": "07e3425b-36c5-4d3c-f1a9-c0c5f69e6104"
      },
      "cell_type": "code",
      "source": [
        "MAXLEN = max(ls)\n",
        "print('MAXLEN :',MAXLEN)"
      ],
      "execution_count": 19,
      "outputs": [
        {
          "output_type": "stream",
          "text": [
            "MAXLEN : 50\n"
          ],
          "name": "stdout"
        }
      ]
    },
    {
      "metadata": {
        "id": "zIIhdlyuuj2w",
        "colab_type": "code",
        "colab": {}
      },
      "cell_type": "code",
      "source": [
        "#blank_value = stoi['_blank_']\n",
        "#print('Blank Value = ', blank_value)"
      ],
      "execution_count": 0,
      "outputs": []
    },
    {
      "metadata": {
        "id": "1WgITTGVuj3H",
        "colab_type": "code",
        "colab": {}
      },
      "cell_type": "code",
      "source": [
        "#from keras.preprocessing.sequence import pad_sequences\n",
        "\n",
        "#x_train = pad_sequences(x_input, maxlen = MAXLEN, value=blank_value)\n",
        "\n",
        "#print('Shape of data train tensor:', x_train.shape)"
      ],
      "execution_count": 0,
      "outputs": []
    },
    {
      "metadata": {
        "id": "u11UyxdMwjRJ",
        "colab_type": "code",
        "colab": {}
      },
      "cell_type": "code",
      "source": [
        "#x_input[0]"
      ],
      "execution_count": 0,
      "outputs": []
    },
    {
      "metadata": {
        "id": "EpTPxJ7BxpHj",
        "colab_type": "code",
        "colab": {
          "base_uri": "https://localhost:8080/",
          "height": 35
        },
        "outputId": "ee6e545a-4821-4667-980d-7ad1052dd57d"
      },
      "cell_type": "code",
      "source": [
        "stoi['_end_']"
      ],
      "execution_count": 23,
      "outputs": [
        {
          "output_type": "execute_result",
          "data": {
            "text/plain": [
              "19779"
            ]
          },
          "metadata": {
            "tags": []
          },
          "execution_count": 23
        }
      ]
    },
    {
      "metadata": {
        "id": "hgYGke4wuj3Z",
        "colab_type": "code",
        "colab": {}
      },
      "cell_type": "code",
      "source": [
        "x_train_seq  = []\n",
        "y_train_next = []\n",
        "\n",
        "SEQ_LEN      = 3\n",
        "\n",
        "for x_input_obs in x_input:\n",
        "    MAXLEN = len(x_input_obs)\n",
        "    for i in range(MAXLEN - SEQ_LEN):\n",
        "        x_train_seq.append(x_input_obs[i:i+SEQ_LEN])\n",
        "        y_train_next.append(x_input_obs[i+SEQ_LEN])"
      ],
      "execution_count": 0,
      "outputs": []
    },
    {
      "metadata": {
        "id": "O86HIygQxA4p",
        "colab_type": "code",
        "colab": {}
      },
      "cell_type": "code",
      "source": [
        "#for i in range(len(x_train_seq)):\n",
        "#  print(x_train_seq[i], '->', y_train_next[i])"
      ],
      "execution_count": 0,
      "outputs": []
    },
    {
      "metadata": {
        "id": "CseQQZBmx5i2",
        "colab_type": "code",
        "colab": {}
      },
      "cell_type": "code",
      "source": [
        "!pip install -q keras"
      ],
      "execution_count": 0,
      "outputs": []
    },
    {
      "metadata": {
        "id": "Gp0vcomJytFB",
        "colab_type": "code",
        "colab": {}
      },
      "cell_type": "code",
      "source": [
        "#!pip3 install keras"
      ],
      "execution_count": 0,
      "outputs": []
    },
    {
      "metadata": {
        "id": "P98P3Wr8uj3x",
        "colab_type": "code",
        "colab": {
          "base_uri": "https://localhost:8080/",
          "height": 35
        },
        "outputId": "bb2be0ec-c20b-4701-d9df-2a025d64b899"
      },
      "cell_type": "code",
      "source": [
        "#import tensorflow as tf\n",
        "import keras \n",
        "\n",
        "#from keras import backend as K\n",
        "\n",
        "#print(K.tensorflow_backend._get_available_gpus())\n",
        "\n",
        "\n",
        "#config = tf.ConfigProto(allow_soft_placement = True, \n",
        "#                        device_count = {'CPU' : 1, 'GPU' : 0})\n",
        "\n",
        "#sess = tf.Session(config=config)\n",
        "\n",
        "#K.set_session(sess)"
      ],
      "execution_count": 28,
      "outputs": [
        {
          "output_type": "stream",
          "text": [
            "Using TensorFlow backend.\n"
          ],
          "name": "stderr"
        }
      ]
    },
    {
      "metadata": {
        "id": "cZJWLoDnuj35",
        "colab_type": "code",
        "colab": {}
      },
      "cell_type": "code",
      "source": [
        "#from keras.utils import to_categorical\n",
        "from keras.layers import LSTM, Input, Bidirectional, Dropout, Dense, Activation\n",
        "from keras.models import Model"
      ],
      "execution_count": 0,
      "outputs": []
    },
    {
      "metadata": {
        "id": "xUnKIkOOuj4G",
        "colab_type": "code",
        "colab": {
          "base_uri": "https://localhost:8080/",
          "height": 329
        },
        "outputId": "07287a14-a42a-4a99-b201-690bdd3a4597"
      },
      "cell_type": "code",
      "source": [
        "seq_input = Input(shape=(SEQ_LEN, VOCAB_SIZE))\n",
        "\n",
        "#rnn       = Bidirectional(LSTM(SEQ_LEN, activation=\"relu\"))(seq_input)\n",
        "rnn       = LSTM(SEQ_LEN, activation=\"relu\")(seq_input)\n",
        "rnn       = Dropout(0.6)(rnn)\n",
        "rnn       = Dense(VOCAB_SIZE)(rnn)\n",
        "output    = Activation('softmax')(rnn)\n",
        "\n",
        "model     = Model(inputs=[seq_input], outputs=[output])\n",
        "\n",
        "model.compile(loss='categorical_crossentropy',\n",
        "                  optimizer='adam',\n",
        "                  metrics=['accuracy'])\n",
        "\n",
        "model.summary()"
      ],
      "execution_count": 30,
      "outputs": [
        {
          "output_type": "stream",
          "text": [
            "_________________________________________________________________\n",
            "Layer (type)                 Output Shape              Param #   \n",
            "=================================================================\n",
            "input_1 (InputLayer)         (None, 3, 19780)          0         \n",
            "_________________________________________________________________\n",
            "lstm_1 (LSTM)                (None, 3)                 237408    \n",
            "_________________________________________________________________\n",
            "dropout_1 (Dropout)          (None, 3)                 0         \n",
            "_________________________________________________________________\n",
            "dense_1 (Dense)              (None, 19780)             79120     \n",
            "_________________________________________________________________\n",
            "activation_1 (Activation)    (None, 19780)             0         \n",
            "=================================================================\n",
            "Total params: 316,528\n",
            "Trainable params: 316,528\n",
            "Non-trainable params: 0\n",
            "_________________________________________________________________\n"
          ],
          "name": "stdout"
        }
      ]
    },
    {
      "metadata": {
        "id": "svYJwvJ33HUj",
        "colab_type": "code",
        "colab": {}
      },
      "cell_type": "code",
      "source": [
        "import numpy as np\n",
        "\n",
        "def X_to_OneHot(batch_sentences, num_classes):\n",
        "  output = np.zeros((len(batch_sentences), SEQ_LEN, num_classes))\n",
        "  \n",
        "  for i,sentence in enumerate(batch_sentences):\n",
        "    for k,value in enumerate(sentence):\n",
        "      output[i, k, value] = 1\n",
        "  \n",
        "  return output\n",
        "\n",
        "def Y_to_OneHot(batch_label, num_classes):\n",
        "  output = np.zeros((len(batch_label), num_classes))\n",
        "  \n",
        "  for i, label in enumerate(batch_label):\n",
        "    output[i, label] = 1\n",
        "  \n",
        "  return output  "
      ],
      "execution_count": 0,
      "outputs": []
    },
    {
      "metadata": {
        "id": "LDT6hiCE6jZH",
        "colab_type": "code",
        "colab": {
          "base_uri": "https://localhost:8080/",
          "height": 35
        },
        "outputId": "28985e0e-828a-4408-883a-e9f7e9de3893"
      },
      "cell_type": "code",
      "source": [
        "x_train_seq[0]"
      ],
      "execution_count": 32,
      "outputs": [
        {
          "output_type": "execute_result",
          "data": {
            "text/plain": [
              "[1, 2, 486]"
            ]
          },
          "metadata": {
            "tags": []
          },
          "execution_count": 32
        }
      ]
    },
    {
      "metadata": {
        "id": "RA_Y4h4W3Vfr",
        "colab_type": "code",
        "colab": {}
      },
      "cell_type": "code",
      "source": [
        "x = X_to_OneHot(x_train_seq[:10], VOCAB_SIZE)"
      ],
      "execution_count": 0,
      "outputs": []
    },
    {
      "metadata": {
        "id": "q0Ewzg-p5p2T",
        "colab_type": "code",
        "colab": {
          "base_uri": "https://localhost:8080/",
          "height": 35
        },
        "outputId": "cb6e8287-b020-402f-a7b8-d42fcce04f63"
      },
      "cell_type": "code",
      "source": [
        "x[0,0,:].shape"
      ],
      "execution_count": 34,
      "outputs": [
        {
          "output_type": "execute_result",
          "data": {
            "text/plain": [
              "(19780,)"
            ]
          },
          "metadata": {
            "tags": []
          },
          "execution_count": 34
        }
      ]
    },
    {
      "metadata": {
        "id": "WBdVh_MN6ELO",
        "colab_type": "code",
        "colab": {
          "base_uri": "https://localhost:8080/",
          "height": 35
        },
        "outputId": "7182c86e-ff3a-4e44-9d2c-8408b33db54b"
      },
      "cell_type": "code",
      "source": [
        "np.argmax(x[0,0,:])"
      ],
      "execution_count": 35,
      "outputs": [
        {
          "output_type": "execute_result",
          "data": {
            "text/plain": [
              "1"
            ]
          },
          "metadata": {
            "tags": []
          },
          "execution_count": 35
        }
      ]
    },
    {
      "metadata": {
        "id": "Ojt3urhr5Mxn",
        "colab_type": "code",
        "colab": {
          "base_uri": "https://localhost:8080/",
          "height": 35
        },
        "outputId": "b0ccec7b-617e-44d6-f04f-e7d854ee1ecd"
      },
      "cell_type": "code",
      "source": [
        "np.argmax(x[0,1,:]) == x_train_seq[0][1]"
      ],
      "execution_count": 36,
      "outputs": [
        {
          "output_type": "execute_result",
          "data": {
            "text/plain": [
              "True"
            ]
          },
          "metadata": {
            "tags": []
          },
          "execution_count": 36
        }
      ]
    },
    {
      "metadata": {
        "id": "f2FMLQ9_-UCg",
        "colab_type": "code",
        "colab": {
          "base_uri": "https://localhost:8080/",
          "height": 35
        },
        "outputId": "bcb4b645-03dc-4bd1-fa45-5d35cd697e9a"
      },
      "cell_type": "code",
      "source": [
        "len(x_train_seq)"
      ],
      "execution_count": 37,
      "outputs": [
        {
          "output_type": "execute_result",
          "data": {
            "text/plain": [
              "200482"
            ]
          },
          "metadata": {
            "tags": []
          },
          "execution_count": 37
        }
      ]
    },
    {
      "metadata": {
        "id": "lIwr0_UYuj4Q",
        "colab_type": "code",
        "colab": {
          "base_uri": "https://localhost:8080/",
          "height": 182
        },
        "outputId": "3918a985-4ec0-47dc-9b5d-a09a305e7073"
      },
      "cell_type": "code",
      "source": [
        "#from keras.callbacks import ModelCheckpoint\n",
        "#import numpy as np\n",
        "\n",
        "BATCH_SIZE = 10000\n",
        "\n",
        "#filepath   =\"model/textG_best_weights_SIF.{epoch:02d}-{val_acc:.4f}.hdf5\"\n",
        "#checkpoint = ModelCheckpoint(filepath, monitor='val_acc', verbose=1, save_best_only=True, mode='max')\n",
        "n_epoch = 10\n",
        "\n",
        "for _ in range(n_epoch):\n",
        "  for ibatch in range(0, len(x_train_seq), BATCH_SIZE):\n",
        "      i_begin = ibatch\n",
        "      i_end   = min(ibatch + BATCH_SIZE, len(x_train_seq))\n",
        "\n",
        "      print('BATCH', i_begin, '-',i_end)\n",
        "      x_train_one_hot = X_to_OneHot( x_train_seq[i_begin:i_end], num_classes = VOCAB_SIZE)\n",
        "      y_train_one_hot = Y_to_OneHot(y_train_next[i_begin:i_end], num_classes = VOCAB_SIZE)\n",
        "      #x_train_one_hot = np.reshape(x_train_one_hot, (x_train_one_hot.shape[0],VOCAB_SIZE, SEQ_LEN))\n",
        "      #model.fit(x_train_one_hot, y_train_one_hot, batch_size=64, epochs=1, callbacks = [checkpoint])   \n",
        "      model.fit(x_train_one_hot, y_train_one_hot, batch_size=128, epochs=1)    "
      ],
      "execution_count": 0,
      "outputs": [
        {
          "output_type": "stream",
          "text": [
            "BATCH 0 - 10000\n",
            "Epoch 1/1\n",
            "10000/10000 [==============================] - 8s 838us/step - loss: 7.3082 - acc: 0.0458\n",
            "BATCH 10000 - 20000\n",
            "Epoch 1/1\n",
            "10000/10000 [==============================] - 8s 766us/step - loss: 7.3568 - acc: 0.0499\n",
            "BATCH 20000 - 30000\n",
            "Epoch 1/1\n",
            " 3968/10000 [==========>...................] - ETA: 6s - loss: 7.2903 - acc: 0.0481"
          ],
          "name": "stdout"
        }
      ]
    },
    {
      "metadata": {
        "id": "BYZtfPCcAlAa",
        "colab_type": "code",
        "colab": {
          "base_uri": "https://localhost:8080/",
          "height": 35
        },
        "outputId": "1780d961-bffe-4e14-81e4-2876437f4ccc"
      },
      "cell_type": "code",
      "source": [
        "text = 'hola como estas'\n",
        "\n",
        "seq  = [[stoi[word] for word in text.split()]]\n",
        "\n",
        "val  = np.argmax(model.predict(X_to_OneHot(seq, VOCAB_SIZE)))\n",
        "\n",
        "print('result = ', itos[val])"
      ],
      "execution_count": 42,
      "outputs": [
        {
          "output_type": "stream",
          "text": [
            "result =  que\n"
          ],
          "name": "stdout"
        }
      ]
    },
    {
      "metadata": {
        "id": "BdQNiWjcuj4W",
        "colab_type": "code",
        "colab": {
          "base_uri": "https://localhost:8080/",
          "height": 35
        },
        "outputId": "d7271dfb-76a9-473b-8a68-54fde554ed53"
      },
      "cell_type": "code",
      "source": [
        "test = 'hola como estas'\n",
        "seq  = [[stoi[word] for word in text.split()]]\n",
        "\n",
        "#print(seq)\n",
        "print(text, end=' ')\n",
        "for i in range(10):\n",
        "  val  = np.argmax(model.predict(X_to_OneHot(seq, VOCAB_SIZE)))\n",
        "  print(itos[val], end=' ')\n",
        "  M = seq[0][1:]\n",
        "  M.append(val)\n",
        "  seq = [M]\n",
        "  #print(seq)"
      ],
      "execution_count": 48,
      "outputs": [
        {
          "output_type": "stream",
          "text": [
            "hola como estas que que que que que que que que que que "
          ],
          "name": "stdout"
        }
      ]
    },
    {
      "metadata": {
        "id": "zRr__lrGBxnT",
        "colab_type": "code",
        "colab": {}
      },
      "cell_type": "code",
      "source": [
        ""
      ],
      "execution_count": 0,
      "outputs": []
    }
  ]
}